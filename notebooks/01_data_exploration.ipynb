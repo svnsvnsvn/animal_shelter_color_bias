{
 "cells": [
  {
   "cell_type": "markdown",
   "id": "3baf445a",
   "metadata": {},
   "source": [
    "# Animal Shelter Color Bias - Data Exploration\n",
    "\n",
    "This notebook performs initial data exploration and preprocessing of the Jacksonville Humane Society dataset to understand the structure and characteristics of the animal shelter data.\n",
    "\n",
    "## Objectives:\n",
    "- Load and explore the raw shelter data\n",
    "- Separate cats and dogs for individual analysis  \n",
    "- Examine data quality and basic distributions\n",
    "- Prepare clean datasets for further analysis"
   ]
  },
  {
   "cell_type": "code",
   "execution_count": null,
   "id": "8e017527",
   "metadata": {},
   "outputs": [],
   "source": [
    "!pip install -r \"../requirements.txt\""
   ]
  },
  {
   "cell_type": "code",
   "execution_count": 36,
   "id": "12ffba0e",
   "metadata": {},
   "outputs": [
    {
     "data": {
      "text/html": [
       "        <script type=\"text/javascript\">\n",
       "        window.PlotlyConfig = {MathJaxConfig: 'local'};\n",
       "        if (window.MathJax && window.MathJax.Hub && window.MathJax.Hub.Config) {window.MathJax.Hub.Config({SVG: {font: \"STIX-Web\"}});}\n",
       "        </script>\n",
       "        <script type=\"module\">import \"https://cdn.plot.ly/plotly-3.1.1.min\"</script>\n",
       "        "
      ]
     },
     "metadata": {},
     "output_type": "display_data"
    }
   ],
   "source": [
    "import numpy as np\n",
    "import pandas as pd\n",
    "import matplotlib.pyplot as plt\n",
    "import seaborn as sns\n",
    "import plotly.offline as py\n",
    "import os\n",
    "py.init_notebook_mode(connected=True)\n",
    "\n",
    "import warnings \n",
    "warnings.filterwarnings('ignore')\n",
    "\n",
    "plt.style.use('fivethirtyeight')\n",
    "sns.set()\n",
    "sns.set_context('talk')"
   ]
  },
  {
   "cell_type": "code",
   "execution_count": 37,
   "id": "cbde6d91",
   "metadata": {},
   "outputs": [
    {
     "data": {
      "text/html": [
       "<div>\n",
       "<style scoped>\n",
       "    .dataframe tbody tr th:only-of-type {\n",
       "        vertical-align: middle;\n",
       "    }\n",
       "\n",
       "    .dataframe tbody tr th {\n",
       "        vertical-align: top;\n",
       "    }\n",
       "\n",
       "    .dataframe thead th {\n",
       "        text-align: right;\n",
       "    }\n",
       "</style>\n",
       "<table border=\"1\" class=\"dataframe\">\n",
       "  <thead>\n",
       "    <tr style=\"text-align: right;\">\n",
       "      <th></th>\n",
       "      <th>Outcome Date</th>\n",
       "      <th>Name</th>\n",
       "      <th>Species</th>\n",
       "      <th>Primary Breed</th>\n",
       "      <th>Secondary Breed</th>\n",
       "      <th>Sex</th>\n",
       "      <th>Primary Color</th>\n",
       "      <th>Secondary Color</th>\n",
       "      <th>Pattern</th>\n",
       "      <th>Age (Months)</th>\n",
       "      <th>Altered</th>\n",
       "      <th>Altered before arrival</th>\n",
       "      <th>Outcome Type</th>\n",
       "      <th>Intake Date</th>\n",
       "      <th>Intake Type</th>\n",
       "    </tr>\n",
       "  </thead>\n",
       "  <tbody>\n",
       "    <tr>\n",
       "      <th>0</th>\n",
       "      <td>01/01/2021</td>\n",
       "      <td>Nova</td>\n",
       "      <td>Cat</td>\n",
       "      <td>Domestic Shorthair</td>\n",
       "      <td>NaN</td>\n",
       "      <td>Female</td>\n",
       "      <td>Brown</td>\n",
       "      <td>NaN</td>\n",
       "      <td>NaN</td>\n",
       "      <td>48</td>\n",
       "      <td>No</td>\n",
       "      <td>Yes</td>\n",
       "      <td>Adoption</td>\n",
       "      <td>12/17/2020</td>\n",
       "      <td>Owner/Guardian Surrender</td>\n",
       "    </tr>\n",
       "    <tr>\n",
       "      <th>1</th>\n",
       "      <td>01/01/2021</td>\n",
       "      <td>Bud</td>\n",
       "      <td>Dog</td>\n",
       "      <td>Mixed Breed (Medium)</td>\n",
       "      <td>NaN</td>\n",
       "      <td>Male</td>\n",
       "      <td>Black</td>\n",
       "      <td>White</td>\n",
       "      <td>NaN</td>\n",
       "      <td>36</td>\n",
       "      <td>Yes</td>\n",
       "      <td>No</td>\n",
       "      <td>Adoption</td>\n",
       "      <td>12/29/2020</td>\n",
       "      <td>Return</td>\n",
       "    </tr>\n",
       "    <tr>\n",
       "      <th>2</th>\n",
       "      <td>01/01/2021</td>\n",
       "      <td>Tinsel</td>\n",
       "      <td>Cat</td>\n",
       "      <td>Domestic Longhair</td>\n",
       "      <td>NaN</td>\n",
       "      <td>Female</td>\n",
       "      <td>Black</td>\n",
       "      <td>NaN</td>\n",
       "      <td>NaN</td>\n",
       "      <td>3</td>\n",
       "      <td>Yes</td>\n",
       "      <td>No</td>\n",
       "      <td>Adoption</td>\n",
       "      <td>12/04/2020</td>\n",
       "      <td>Stray</td>\n",
       "    </tr>\n",
       "    <tr>\n",
       "      <th>3</th>\n",
       "      <td>01/01/2021</td>\n",
       "      <td>Mustard</td>\n",
       "      <td>Cat</td>\n",
       "      <td>Domestic Shorthair</td>\n",
       "      <td>NaN</td>\n",
       "      <td>Male</td>\n",
       "      <td>Orange</td>\n",
       "      <td>White</td>\n",
       "      <td>NaN</td>\n",
       "      <td>5</td>\n",
       "      <td>Yes</td>\n",
       "      <td>No</td>\n",
       "      <td>Adoption</td>\n",
       "      <td>12/03/2020</td>\n",
       "      <td>Stray</td>\n",
       "    </tr>\n",
       "    <tr>\n",
       "      <th>4</th>\n",
       "      <td>01/01/2021</td>\n",
       "      <td>Dionne</td>\n",
       "      <td>Cat</td>\n",
       "      <td>Domestic Shorthair</td>\n",
       "      <td>NaN</td>\n",
       "      <td>Female</td>\n",
       "      <td>Grey</td>\n",
       "      <td>NaN</td>\n",
       "      <td>Tabby</td>\n",
       "      <td>3</td>\n",
       "      <td>Yes</td>\n",
       "      <td>No</td>\n",
       "      <td>Adoption</td>\n",
       "      <td>12/28/2020</td>\n",
       "      <td>Stray</td>\n",
       "    </tr>\n",
       "    <tr>\n",
       "      <th>5</th>\n",
       "      <td>01/01/2021</td>\n",
       "      <td>Kiko</td>\n",
       "      <td>Dog</td>\n",
       "      <td>Mixed Breed (Medium)</td>\n",
       "      <td>NaN</td>\n",
       "      <td>Male</td>\n",
       "      <td>Black</td>\n",
       "      <td>White</td>\n",
       "      <td>NaN</td>\n",
       "      <td>31</td>\n",
       "      <td>Yes</td>\n",
       "      <td>No</td>\n",
       "      <td>Return to Owner/Guardian</td>\n",
       "      <td>01/01/2021</td>\n",
       "      <td>Stray</td>\n",
       "    </tr>\n",
       "    <tr>\n",
       "      <th>6</th>\n",
       "      <td>01/01/2021</td>\n",
       "      <td>Ranger</td>\n",
       "      <td>Cat</td>\n",
       "      <td>Domestic Shorthair</td>\n",
       "      <td>NaN</td>\n",
       "      <td>Female</td>\n",
       "      <td>Orange</td>\n",
       "      <td>White</td>\n",
       "      <td>Tabby</td>\n",
       "      <td>2</td>\n",
       "      <td>Yes</td>\n",
       "      <td>No</td>\n",
       "      <td>Adoption</td>\n",
       "      <td>10/25/2020</td>\n",
       "      <td>Stray</td>\n",
       "    </tr>\n",
       "    <tr>\n",
       "      <th>7</th>\n",
       "      <td>01/01/2021</td>\n",
       "      <td>Siam</td>\n",
       "      <td>Cat</td>\n",
       "      <td>Domestic Shorthair</td>\n",
       "      <td>NaN</td>\n",
       "      <td>Male</td>\n",
       "      <td>Brown</td>\n",
       "      <td>NaN</td>\n",
       "      <td>Tabby</td>\n",
       "      <td>2</td>\n",
       "      <td>Yes</td>\n",
       "      <td>No</td>\n",
       "      <td>Adoption</td>\n",
       "      <td>11/27/2020</td>\n",
       "      <td>Stray</td>\n",
       "    </tr>\n",
       "    <tr>\n",
       "      <th>8</th>\n",
       "      <td>01/01/2021</td>\n",
       "      <td>Tahiti</td>\n",
       "      <td>Cat</td>\n",
       "      <td>Domestic Shorthair</td>\n",
       "      <td>NaN</td>\n",
       "      <td>Female</td>\n",
       "      <td>Brown</td>\n",
       "      <td>NaN</td>\n",
       "      <td>Tabby</td>\n",
       "      <td>2</td>\n",
       "      <td>Yes</td>\n",
       "      <td>No</td>\n",
       "      <td>Adoption</td>\n",
       "      <td>11/27/2020</td>\n",
       "      <td>Stray</td>\n",
       "    </tr>\n",
       "    <tr>\n",
       "      <th>9</th>\n",
       "      <td>01/01/2021</td>\n",
       "      <td>Pompeii</td>\n",
       "      <td>Cat</td>\n",
       "      <td>Domestic Shorthair</td>\n",
       "      <td>NaN</td>\n",
       "      <td>Male</td>\n",
       "      <td>Orange</td>\n",
       "      <td>NaN</td>\n",
       "      <td>Tabby</td>\n",
       "      <td>2</td>\n",
       "      <td>Yes</td>\n",
       "      <td>No</td>\n",
       "      <td>Adoption</td>\n",
       "      <td>11/27/2020</td>\n",
       "      <td>Stray</td>\n",
       "    </tr>\n",
       "  </tbody>\n",
       "</table>\n",
       "</div>"
      ],
      "text/plain": [
       "  Outcome Date     Name Species         Primary Breed Secondary Breed     Sex  \\\n",
       "0   01/01/2021     Nova     Cat    Domestic Shorthair             NaN  Female   \n",
       "1   01/01/2021      Bud     Dog  Mixed Breed (Medium)             NaN    Male   \n",
       "2   01/01/2021   Tinsel     Cat     Domestic Longhair             NaN  Female   \n",
       "3   01/01/2021  Mustard     Cat    Domestic Shorthair             NaN    Male   \n",
       "4   01/01/2021   Dionne     Cat    Domestic Shorthair             NaN  Female   \n",
       "5   01/01/2021     Kiko     Dog  Mixed Breed (Medium)             NaN    Male   \n",
       "6   01/01/2021   Ranger     Cat    Domestic Shorthair             NaN  Female   \n",
       "7   01/01/2021     Siam     Cat    Domestic Shorthair             NaN    Male   \n",
       "8   01/01/2021   Tahiti     Cat    Domestic Shorthair             NaN  Female   \n",
       "9   01/01/2021  Pompeii     Cat    Domestic Shorthair             NaN    Male   \n",
       "\n",
       "  Primary Color Secondary Color Pattern  Age (Months) Altered  \\\n",
       "0         Brown             NaN     NaN            48      No   \n",
       "1         Black           White     NaN            36     Yes   \n",
       "2         Black             NaN     NaN             3     Yes   \n",
       "3        Orange           White     NaN             5     Yes   \n",
       "4          Grey             NaN   Tabby             3     Yes   \n",
       "5         Black           White     NaN            31     Yes   \n",
       "6        Orange           White   Tabby             2     Yes   \n",
       "7         Brown             NaN   Tabby             2     Yes   \n",
       "8         Brown             NaN   Tabby             2     Yes   \n",
       "9        Orange             NaN   Tabby             2     Yes   \n",
       "\n",
       "  Altered before arrival              Outcome Type Intake Date  \\\n",
       "0                    Yes                  Adoption  12/17/2020   \n",
       "1                     No                  Adoption  12/29/2020   \n",
       "2                     No                  Adoption  12/04/2020   \n",
       "3                     No                  Adoption  12/03/2020   \n",
       "4                     No                  Adoption  12/28/2020   \n",
       "5                     No  Return to Owner/Guardian  01/01/2021   \n",
       "6                     No                  Adoption  10/25/2020   \n",
       "7                     No                  Adoption  11/27/2020   \n",
       "8                     No                  Adoption  11/27/2020   \n",
       "9                     No                  Adoption  11/27/2020   \n",
       "\n",
       "                Intake Type  \n",
       "0  Owner/Guardian Surrender  \n",
       "1                    Return  \n",
       "2                     Stray  \n",
       "3                     Stray  \n",
       "4                     Stray  \n",
       "5                     Stray  \n",
       "6                     Stray  \n",
       "7                     Stray  \n",
       "8                     Stray  \n",
       "9                     Stray  "
      ]
     },
     "execution_count": 37,
     "metadata": {},
     "output_type": "execute_result"
    }
   ],
   "source": [
    "data = pd.read_csv('../data/raw/JAXhumane.csv')\n",
    "data.head(10)"
   ]
  },
  {
   "cell_type": "markdown",
   "id": "4a02c89e",
   "metadata": {},
   "source": [
    "## Dataset Overview"
   ]
  },
  {
   "cell_type": "code",
   "execution_count": 38,
   "id": "143b7020",
   "metadata": {},
   "outputs": [
    {
     "name": "stdout",
     "output_type": "stream",
     "text": [
      "Total Records: 27,636\n",
      "Features: 15\n",
      "Date Range: 01/01/2021 to 12/31/2023\n",
      "\n",
      "Species Distribution:\n",
      "  Cats: 16,903 (61.2%)\n",
      "  Dogs: 10,733 (38.8%)\n"
     ]
    }
   ],
   "source": [
    "# Basic dataset information\n",
    "print(f\"Total Records: {data.shape[0]:,}\")\n",
    "print(f\"Features: {data.shape[1]}\")\n",
    "print(f\"Date Range: {data['Intake Date'].min()} to {data['Outcome Date'].max()}\")\n",
    "\n",
    "# Species breakdown\n",
    "species_counts = data['Species'].value_counts()\n",
    "print(f\"\\nSpecies Distribution:\")\n",
    "print(f\"  Cats: {species_counts.get('Cat', 0):,} ({species_counts.get('Cat', 0)/len(data)*100:.1f}%)\")\n",
    "print(f\"  Dogs: {species_counts.get('Dog', 0):,} ({species_counts.get('Dog', 0)/len(data)*100:.1f}%)\")"
   ]
  },
  {
   "cell_type": "code",
   "execution_count": 39,
   "id": "2f5016b7",
   "metadata": {},
   "outputs": [
    {
     "name": "stdout",
     "output_type": "stream",
     "text": [
      "\n",
      "Data Quality:\n",
      "  Columns with missing data:\n",
      "    Secondary Breed: 98.5% missing\n",
      "    Secondary Color: 58.8% missing\n",
      "    Pattern: 77.4% missing\n"
     ]
    }
   ],
   "source": [
    "# Data quality check\n",
    "missing_pct = (data.isnull().sum() / len(data) * 100).round(1)\n",
    "missing_cols = missing_pct[missing_pct > 0]\n",
    "\n",
    "print(f\"\\nData Quality:\")\n",
    "if len(missing_cols) > 0:\n",
    "    print(\"  Columns with missing data:\")\n",
    "    for col, pct in missing_cols.items():\n",
    "        print(f\"    {col}: {pct}% missing\")\n",
    "else:\n",
    "    print(\"  No missing data\")"
   ]
  },
  {
   "cell_type": "code",
   "execution_count": 40,
   "id": "93cf6f29",
   "metadata": {},
   "outputs": [
    {
     "name": "stdout",
     "output_type": "stream",
     "text": [
      "\n",
      "Key Statistics:\n",
      "  Adoption Rate: 94.9%\n",
      "  Unique Colors: 42\n",
      "  Unique Breeds: 16\n",
      "  Average Age: 21.2 months\n"
     ]
    }
   ],
   "source": [
    "print(f\"\\nKey Statistics:\")\n",
    "print(f\"  Adoption Rate: {(data['Outcome Type'] == 'Adoption').mean()*100:.1f}%\")\n",
    "print(f\"  Unique Colors: {data['Primary Color'].nunique()}\")\n",
    "print(f\"  Unique Breeds: {data['Primary Breed'].nunique()}\")\n",
    "print(f\"  Average Age: {data['Age (Months)'].mean():.1f} months\")"
   ]
  },
  {
   "cell_type": "markdown",
   "id": "ec3d3591",
   "metadata": {},
   "source": [
    "## Data Preprocessing"
   ]
  },
  {
   "cell_type": "code",
   "execution_count": 41,
   "id": "cf7eae3d",
   "metadata": {},
   "outputs": [],
   "source": [
    "try:\n",
    "    data_clean.shape\n",
    "except NameError:\n",
    "    print(\"Error: data_clean not found. Please run the data preprocessing cells first.\")\n",
    "    # Or reload the data:\n",
    "    data = pd.read_csv('../data/raw/JAXhumane.csv')\n",
    "    data_clean = data.drop(columns=['Secondary Color', 'Secondary Breed', 'Pattern'])\n",
    "    data_clean = data_clean.dropna()\n",
    "    data_clean['Intake Date'] = pd.to_datetime(data_clean['Intake Date'])\n",
    "    data_clean['Outcome Date'] = pd.to_datetime(data_clean['Outcome Date'])\n",
    "    data_clean['length_of_stay'] = (data_clean['Outcome Date'] - data_clean['Intake Date']).dt.days"
   ]
  },
  {
   "cell_type": "code",
   "execution_count": 42,
   "id": "6a7473f4",
   "metadata": {},
   "outputs": [
    {
     "data": {
      "text/plain": [
       "Outcome Date              datetime64[ns]\n",
       "Name                              object\n",
       "Species                           object\n",
       "Primary Breed                     object\n",
       "Sex                               object\n",
       "Primary Color                     object\n",
       "Age (Months)                       int64\n",
       "Altered                           object\n",
       "Altered before arrival            object\n",
       "Outcome Type                      object\n",
       "Intake Date               datetime64[ns]\n",
       "Intake Type                       object\n",
       "length_of_stay                     int64\n",
       "Intake Type Grouped               object\n",
       "dtype: object"
      ]
     },
     "execution_count": 42,
     "metadata": {},
     "output_type": "execute_result"
    }
   ],
   "source": [
    "data_clean.dtypes"
   ]
  },
  {
   "cell_type": "code",
   "execution_count": 43,
   "id": "af71854f",
   "metadata": {},
   "outputs": [
    {
     "name": "stdout",
     "output_type": "stream",
     "text": [
      "Duplicate records: 0\n",
      "Final cleaned dataset: 27,627 records\n"
     ]
    }
   ],
   "source": [
    "# Check for duplicates\n",
    "print(f\"Duplicate records: {data_clean.duplicated().sum()}\")\n",
    "if data_clean.duplicated().sum() > 0:\n",
    "    data_clean = data_clean.drop_duplicates()\n",
    "\n",
    "print(f\"Final cleaned dataset: {data_clean.shape[0]:,} records\")"
   ]
  },
  {
   "cell_type": "code",
   "execution_count": 44,
   "id": "8b28b0b9",
   "metadata": {},
   "outputs": [
    {
     "name": "stdout",
     "output_type": "stream",
     "text": [
      "Total unique colors: 24\n",
      "\n",
      "All color values:\n",
      "  'Albino'\n",
      "  'Apricot'\n",
      "  'Black'\n",
      "  'Blond'\n",
      "  'Blue'\n",
      "  'Brindle'\n",
      "  'Brown'\n",
      "  'Buff'\n",
      "  'Calico'\n",
      "  'Cream'\n",
      "  'Fawn'\n",
      "  'Grey'\n",
      "  'Lilac'\n",
      "  'Lynx'\n",
      "  'Orange'\n",
      "  'Red'\n",
      "  'Sable'\n",
      "  'Seal'\n",
      "  'Tan'\n",
      "  'Torbie'\n",
      "  'Tortoise'\n",
      "  'Wheaten'\n",
      "  'White'\n",
      "  'Yellow'\n"
     ]
    }
   ],
   "source": [
    "# Standardize color labels (if needed)\n",
    "data_clean['Primary Color'] = data_clean['Primary Color'].str.title()\n",
    "unique_colors = data_clean['Primary Color'].unique()\n",
    "print(f\"Total unique colors: {len(unique_colors)}\")\n",
    "print(\"\\nAll color values:\")\n",
    "for color in sorted(unique_colors):\n",
    "    print(f\"  '{color}'\")"
   ]
  },
  {
   "cell_type": "code",
   "execution_count": 45,
   "id": "cc64e743",
   "metadata": {},
   "outputs": [],
   "source": [
    "# Color mapping for standardization\n",
    "color_mapping = {\n",
    "    # Fix spelling variations\n",
    "    'Blonde': 'Blond',\n",
    "    \n",
    "    # Group similar browns\n",
    "    'Chocolate': 'Brown',\n",
    "    'Mahogany': 'Brown', \n",
    "    'Red/Mahogany': 'Brown',\n",
    "    'Liver': 'Brown',\n",
    "    'Copper': 'Brown',\n",
    "    \n",
    "    # Group similar greys\n",
    "    'Silver': 'Grey',\n",
    "    'Charcoal': 'Grey',\n",
    "    'Smoke': 'Grey',\n",
    "    \n",
    "    # Group light colors\n",
    "    'Cream': 'Buff',\n",
    "    'Beige': 'Buff',\n",
    "    \n",
    "    # Group oranges/reds\n",
    "    'Flame': 'Orange',\n",
    "    'Ruddy': 'Red',\n",
    "    \n",
    "    # Group yellows\n",
    "    'Golden': 'Yellow',\n",
    "    'Sandy': 'Yellow',\n",
    "    \n",
    "    # Simplify complex colors\n",
    "    'Shaded Blue Cream Cameo': 'Cream',\n",
    "    'Salt & Pepper': 'Grey',\n",
    "    'Blue Black': 'Black',\n",
    "    'Silver Black': 'Black'\n",
    "}\n",
    "\n",
    "# Apply the mapping\n",
    "data_clean['Primary Color'] = data_clean['Primary Color'].replace(color_mapping)"
   ]
  },
  {
   "cell_type": "code",
   "execution_count": 46,
   "id": "e585dc60",
   "metadata": {},
   "outputs": [
    {
     "data": {
      "text/plain": [
       "Outcome Date              0\n",
       "Name                      0\n",
       "Species                   0\n",
       "Primary Breed             0\n",
       "Sex                       0\n",
       "Primary Color             0\n",
       "Age (Months)              0\n",
       "Altered                   0\n",
       "Altered before arrival    0\n",
       "Outcome Type              0\n",
       "Intake Date               0\n",
       "Intake Type               0\n",
       "length_of_stay            0\n",
       "Intake Type Grouped       0\n",
       "dtype: int64"
      ]
     },
     "execution_count": 46,
     "metadata": {},
     "output_type": "execute_result"
    }
   ],
   "source": [
    "data_clean.isnull().sum()"
   ]
  },
  {
   "cell_type": "code",
   "execution_count": 47,
   "id": "63b905b2",
   "metadata": {},
   "outputs": [],
   "source": [
    "# Group rare intake types (<100 records) into \"Other\" for ML stability\n",
    "intake_counts = data_clean['Intake Type'].value_counts()\n",
    "rare_categories = intake_counts[intake_counts < 100].index\n",
    "data_clean['Intake Type Grouped'] = data_clean['Intake Type'].replace({cat: 'Other' for cat in rare_categories})"
   ]
  },
  {
   "cell_type": "code",
   "execution_count": 48,
   "id": "1741dd64",
   "metadata": {},
   "outputs": [
    {
     "data": {
      "text/plain": [
       "(16901, 14)"
      ]
     },
     "execution_count": 48,
     "metadata": {},
     "output_type": "execute_result"
    }
   ],
   "source": [
    "# Export species-specific datasets with grouped intake types\n",
    "data_cats = data_clean[data_clean['Species'] == 'Cat']\n",
    "data_cats.to_csv('../data/processed/data_cats.csv', index=False)\n",
    "data_cats.shape\n"
   ]
  },
  {
   "cell_type": "code",
   "execution_count": 49,
   "id": "22a6f701",
   "metadata": {},
   "outputs": [
    {
     "data": {
      "text/plain": [
       "(10726, 14)"
      ]
     },
     "execution_count": 49,
     "metadata": {},
     "output_type": "execute_result"
    }
   ],
   "source": [
    "data_dogs = data_clean[data_clean['Species'] == 'Dog']\n",
    "data_dogs.to_csv('../data/processed/data_dogs.csv', index=False)\n",
    "data_dogs.shape"
   ]
  },
  {
   "cell_type": "code",
   "execution_count": 50,
   "id": "cb0e4f54",
   "metadata": {},
   "outputs": [
    {
     "data": {
      "text/html": [
       "<div>\n",
       "<style scoped>\n",
       "    .dataframe tbody tr th:only-of-type {\n",
       "        vertical-align: middle;\n",
       "    }\n",
       "\n",
       "    .dataframe tbody tr th {\n",
       "        vertical-align: top;\n",
       "    }\n",
       "\n",
       "    .dataframe thead th {\n",
       "        text-align: right;\n",
       "    }\n",
       "</style>\n",
       "<table border=\"1\" class=\"dataframe\">\n",
       "  <thead>\n",
       "    <tr style=\"text-align: right;\">\n",
       "      <th></th>\n",
       "      <th>Outcome Date</th>\n",
       "      <th>Name</th>\n",
       "      <th>Species</th>\n",
       "      <th>Primary Breed</th>\n",
       "      <th>Sex</th>\n",
       "      <th>Primary Color</th>\n",
       "      <th>Age (Months)</th>\n",
       "      <th>Altered</th>\n",
       "      <th>Altered before arrival</th>\n",
       "      <th>Outcome Type</th>\n",
       "      <th>Intake Date</th>\n",
       "      <th>Intake Type</th>\n",
       "      <th>length_of_stay</th>\n",
       "      <th>Intake Type Grouped</th>\n",
       "    </tr>\n",
       "  </thead>\n",
       "  <tbody>\n",
       "    <tr>\n",
       "      <th>0</th>\n",
       "      <td>2021-01-01</td>\n",
       "      <td>Nova</td>\n",
       "      <td>Cat</td>\n",
       "      <td>Domestic Shorthair</td>\n",
       "      <td>Female</td>\n",
       "      <td>Brown</td>\n",
       "      <td>48</td>\n",
       "      <td>No</td>\n",
       "      <td>Yes</td>\n",
       "      <td>Adoption</td>\n",
       "      <td>2020-12-17</td>\n",
       "      <td>Owner/Guardian Surrender</td>\n",
       "      <td>15</td>\n",
       "      <td>Owner/Guardian Surrender</td>\n",
       "    </tr>\n",
       "    <tr>\n",
       "      <th>2</th>\n",
       "      <td>2021-01-01</td>\n",
       "      <td>Tinsel</td>\n",
       "      <td>Cat</td>\n",
       "      <td>Domestic Longhair</td>\n",
       "      <td>Female</td>\n",
       "      <td>Black</td>\n",
       "      <td>3</td>\n",
       "      <td>Yes</td>\n",
       "      <td>No</td>\n",
       "      <td>Adoption</td>\n",
       "      <td>2020-12-04</td>\n",
       "      <td>Stray</td>\n",
       "      <td>28</td>\n",
       "      <td>Stray</td>\n",
       "    </tr>\n",
       "    <tr>\n",
       "      <th>3</th>\n",
       "      <td>2021-01-01</td>\n",
       "      <td>Mustard</td>\n",
       "      <td>Cat</td>\n",
       "      <td>Domestic Shorthair</td>\n",
       "      <td>Male</td>\n",
       "      <td>Orange</td>\n",
       "      <td>5</td>\n",
       "      <td>Yes</td>\n",
       "      <td>No</td>\n",
       "      <td>Adoption</td>\n",
       "      <td>2020-12-03</td>\n",
       "      <td>Stray</td>\n",
       "      <td>29</td>\n",
       "      <td>Stray</td>\n",
       "    </tr>\n",
       "    <tr>\n",
       "      <th>4</th>\n",
       "      <td>2021-01-01</td>\n",
       "      <td>Dionne</td>\n",
       "      <td>Cat</td>\n",
       "      <td>Domestic Shorthair</td>\n",
       "      <td>Female</td>\n",
       "      <td>Grey</td>\n",
       "      <td>3</td>\n",
       "      <td>Yes</td>\n",
       "      <td>No</td>\n",
       "      <td>Adoption</td>\n",
       "      <td>2020-12-28</td>\n",
       "      <td>Stray</td>\n",
       "      <td>4</td>\n",
       "      <td>Stray</td>\n",
       "    </tr>\n",
       "    <tr>\n",
       "      <th>6</th>\n",
       "      <td>2021-01-01</td>\n",
       "      <td>Ranger</td>\n",
       "      <td>Cat</td>\n",
       "      <td>Domestic Shorthair</td>\n",
       "      <td>Female</td>\n",
       "      <td>Orange</td>\n",
       "      <td>2</td>\n",
       "      <td>Yes</td>\n",
       "      <td>No</td>\n",
       "      <td>Adoption</td>\n",
       "      <td>2020-10-25</td>\n",
       "      <td>Stray</td>\n",
       "      <td>68</td>\n",
       "      <td>Stray</td>\n",
       "    </tr>\n",
       "  </tbody>\n",
       "</table>\n",
       "</div>"
      ],
      "text/plain": [
       "  Outcome Date     Name Species       Primary Breed     Sex Primary Color  \\\n",
       "0   2021-01-01     Nova     Cat  Domestic Shorthair  Female         Brown   \n",
       "2   2021-01-01   Tinsel     Cat   Domestic Longhair  Female         Black   \n",
       "3   2021-01-01  Mustard     Cat  Domestic Shorthair    Male        Orange   \n",
       "4   2021-01-01   Dionne     Cat  Domestic Shorthair  Female          Grey   \n",
       "6   2021-01-01   Ranger     Cat  Domestic Shorthair  Female        Orange   \n",
       "\n",
       "   Age (Months) Altered Altered before arrival Outcome Type Intake Date  \\\n",
       "0            48      No                    Yes     Adoption  2020-12-17   \n",
       "2             3     Yes                     No     Adoption  2020-12-04   \n",
       "3             5     Yes                     No     Adoption  2020-12-03   \n",
       "4             3     Yes                     No     Adoption  2020-12-28   \n",
       "6             2     Yes                     No     Adoption  2020-10-25   \n",
       "\n",
       "                Intake Type  length_of_stay       Intake Type Grouped  \n",
       "0  Owner/Guardian Surrender              15  Owner/Guardian Surrender  \n",
       "2                     Stray              28                     Stray  \n",
       "3                     Stray              29                     Stray  \n",
       "4                     Stray               4                     Stray  \n",
       "6                     Stray              68                     Stray  "
      ]
     },
     "execution_count": 50,
     "metadata": {},
     "output_type": "execute_result"
    }
   ],
   "source": [
    "data_cats.head()"
   ]
  },
  {
   "cell_type": "code",
   "execution_count": 51,
   "id": "9d2aa5b8",
   "metadata": {},
   "outputs": [
    {
     "data": {
      "text/html": [
       "<div>\n",
       "<style scoped>\n",
       "    .dataframe tbody tr th:only-of-type {\n",
       "        vertical-align: middle;\n",
       "    }\n",
       "\n",
       "    .dataframe tbody tr th {\n",
       "        vertical-align: top;\n",
       "    }\n",
       "\n",
       "    .dataframe thead th {\n",
       "        text-align: right;\n",
       "    }\n",
       "</style>\n",
       "<table border=\"1\" class=\"dataframe\">\n",
       "  <thead>\n",
       "    <tr style=\"text-align: right;\">\n",
       "      <th></th>\n",
       "      <th>Outcome Date</th>\n",
       "      <th>Name</th>\n",
       "      <th>Species</th>\n",
       "      <th>Primary Breed</th>\n",
       "      <th>Sex</th>\n",
       "      <th>Primary Color</th>\n",
       "      <th>Age (Months)</th>\n",
       "      <th>Altered</th>\n",
       "      <th>Altered before arrival</th>\n",
       "      <th>Outcome Type</th>\n",
       "      <th>Intake Date</th>\n",
       "      <th>Intake Type</th>\n",
       "      <th>length_of_stay</th>\n",
       "      <th>Intake Type Grouped</th>\n",
       "    </tr>\n",
       "  </thead>\n",
       "  <tbody>\n",
       "    <tr>\n",
       "      <th>1</th>\n",
       "      <td>2021-01-01</td>\n",
       "      <td>Bud</td>\n",
       "      <td>Dog</td>\n",
       "      <td>Mixed Breed (Medium)</td>\n",
       "      <td>Male</td>\n",
       "      <td>Black</td>\n",
       "      <td>36</td>\n",
       "      <td>Yes</td>\n",
       "      <td>No</td>\n",
       "      <td>Adoption</td>\n",
       "      <td>2020-12-29</td>\n",
       "      <td>Return</td>\n",
       "      <td>3</td>\n",
       "      <td>Return</td>\n",
       "    </tr>\n",
       "    <tr>\n",
       "      <th>5</th>\n",
       "      <td>2021-01-01</td>\n",
       "      <td>Kiko</td>\n",
       "      <td>Dog</td>\n",
       "      <td>Mixed Breed (Medium)</td>\n",
       "      <td>Male</td>\n",
       "      <td>Black</td>\n",
       "      <td>31</td>\n",
       "      <td>Yes</td>\n",
       "      <td>No</td>\n",
       "      <td>Return to Owner/Guardian</td>\n",
       "      <td>2021-01-01</td>\n",
       "      <td>Stray</td>\n",
       "      <td>0</td>\n",
       "      <td>Stray</td>\n",
       "    </tr>\n",
       "    <tr>\n",
       "      <th>21</th>\n",
       "      <td>2021-01-01</td>\n",
       "      <td>Boomer</td>\n",
       "      <td>Dog</td>\n",
       "      <td>Mixed Breed (Small)</td>\n",
       "      <td>Male</td>\n",
       "      <td>White</td>\n",
       "      <td>84</td>\n",
       "      <td>Yes</td>\n",
       "      <td>No</td>\n",
       "      <td>Adoption</td>\n",
       "      <td>2020-12-26</td>\n",
       "      <td>Stray</td>\n",
       "      <td>6</td>\n",
       "      <td>Stray</td>\n",
       "    </tr>\n",
       "    <tr>\n",
       "      <th>27</th>\n",
       "      <td>2021-01-01</td>\n",
       "      <td>Opal</td>\n",
       "      <td>Dog</td>\n",
       "      <td>Mixed Breed (Medium)</td>\n",
       "      <td>Female</td>\n",
       "      <td>Black</td>\n",
       "      <td>36</td>\n",
       "      <td>No</td>\n",
       "      <td>Yes</td>\n",
       "      <td>Adoption</td>\n",
       "      <td>2020-12-29</td>\n",
       "      <td>Transfer In</td>\n",
       "      <td>3</td>\n",
       "      <td>Transfer In</td>\n",
       "    </tr>\n",
       "    <tr>\n",
       "      <th>28</th>\n",
       "      <td>2021-01-01</td>\n",
       "      <td>Ember</td>\n",
       "      <td>Dog</td>\n",
       "      <td>Mixed Breed (Medium)</td>\n",
       "      <td>Female</td>\n",
       "      <td>White</td>\n",
       "      <td>48</td>\n",
       "      <td>Yes</td>\n",
       "      <td>No</td>\n",
       "      <td>Adoption</td>\n",
       "      <td>2020-12-26</td>\n",
       "      <td>Stray</td>\n",
       "      <td>6</td>\n",
       "      <td>Stray</td>\n",
       "    </tr>\n",
       "  </tbody>\n",
       "</table>\n",
       "</div>"
      ],
      "text/plain": [
       "   Outcome Date    Name Species         Primary Breed     Sex Primary Color  \\\n",
       "1    2021-01-01     Bud     Dog  Mixed Breed (Medium)    Male         Black   \n",
       "5    2021-01-01    Kiko     Dog  Mixed Breed (Medium)    Male         Black   \n",
       "21   2021-01-01  Boomer     Dog   Mixed Breed (Small)    Male         White   \n",
       "27   2021-01-01    Opal     Dog  Mixed Breed (Medium)  Female         Black   \n",
       "28   2021-01-01   Ember     Dog  Mixed Breed (Medium)  Female         White   \n",
       "\n",
       "    Age (Months) Altered Altered before arrival              Outcome Type  \\\n",
       "1             36     Yes                     No                  Adoption   \n",
       "5             31     Yes                     No  Return to Owner/Guardian   \n",
       "21            84     Yes                     No                  Adoption   \n",
       "27            36      No                    Yes                  Adoption   \n",
       "28            48     Yes                     No                  Adoption   \n",
       "\n",
       "   Intake Date  Intake Type  length_of_stay Intake Type Grouped  \n",
       "1   2020-12-29       Return               3              Return  \n",
       "5   2021-01-01        Stray               0               Stray  \n",
       "21  2020-12-26        Stray               6               Stray  \n",
       "27  2020-12-29  Transfer In               3         Transfer In  \n",
       "28  2020-12-26        Stray               6               Stray  "
      ]
     },
     "execution_count": 51,
     "metadata": {},
     "output_type": "execute_result"
    }
   ],
   "source": [
    "data_dogs.head()"
   ]
  },
  {
   "cell_type": "code",
   "execution_count": 52,
   "id": "3c19d6fb",
   "metadata": {},
   "outputs": [
    {
     "data": {
      "text/plain": [
       "Primary Color\n",
       "Black       5767\n",
       "Grey        3381\n",
       "Brown       3002\n",
       "Orange      1730\n",
       "White       1238\n",
       "Calico       614\n",
       "Tan          309\n",
       "Tortoise     292\n",
       "Buff         227\n",
       "Torbie       113\n",
       "Seal          54\n",
       "Apricot       47\n",
       "Albino        34\n",
       "Yellow        19\n",
       "Lilac         18\n",
       "Blue          15\n",
       "Blond         14\n",
       "Lynx           9\n",
       "Fawn           8\n",
       "Red            5\n",
       "Wheaten        5\n",
       "Name: count, dtype: int64"
      ]
     },
     "execution_count": 52,
     "metadata": {},
     "output_type": "execute_result"
    }
   ],
   "source": [
    "cat_color_counts = data_cats['Primary Color'].value_counts()\n",
    "cat_color_counts"
   ]
  },
  {
   "cell_type": "code",
   "execution_count": 53,
   "id": "fc96c0fe",
   "metadata": {},
   "outputs": [
    {
     "data": {
      "text/plain": [
       "Primary Color\n",
       "Black      2920\n",
       "Brown      2243\n",
       "Tan        1881\n",
       "White      1642\n",
       "Grey        785\n",
       "Brindle     630\n",
       "Yellow      170\n",
       "Buff        145\n",
       "Blue         74\n",
       "Blond        71\n",
       "Fawn         69\n",
       "Wheaten      62\n",
       "Apricot      23\n",
       "Sable        11\n",
       "Name: count, dtype: int64"
      ]
     },
     "execution_count": 53,
     "metadata": {},
     "output_type": "execute_result"
    }
   ],
   "source": [
    "dog_color_counts = data_dogs['Primary Color'].value_counts()\n",
    "dog_color_counts"
   ]
  },
  {
   "cell_type": "code",
   "execution_count": 54,
   "id": "6404848a",
   "metadata": {},
   "outputs": [
    {
     "data": {
      "text/plain": [
       "Primary Breed\n",
       "Domestic Shorthair      15534\n",
       "Domestic Medium Hair     1002\n",
       "Domestic Longhair         357\n",
       "American Shorthair          7\n",
       "Siamese                     1\n",
       "Name: count, dtype: int64"
      ]
     },
     "execution_count": 54,
     "metadata": {},
     "output_type": "execute_result"
    }
   ],
   "source": [
    "cat_breed_counts = data_cats['Primary Breed'].value_counts()\n",
    "cat_breed_counts"
   ]
  },
  {
   "cell_type": "code",
   "execution_count": 55,
   "id": "ccb47313",
   "metadata": {},
   "outputs": [
    {
     "data": {
      "text/plain": [
       "Primary Breed\n",
       "Mixed Breed (Medium)         5626\n",
       "Mixed Breed (Large)          2546\n",
       "Mixed Breed (Small)          2543\n",
       "Boxer                           2\n",
       "Retriever, Black Labrador       2\n",
       "Terrier                         2\n",
       "Hound, Bloodhound               1\n",
       "Hound, Basset                   1\n",
       "Retriever, Labrador             1\n",
       "Beagle                          1\n",
       "Pekingese                       1\n",
       "Name: count, dtype: int64"
      ]
     },
     "execution_count": 55,
     "metadata": {},
     "output_type": "execute_result"
    }
   ],
   "source": [
    "dog_breed_counts = data_dogs['Primary Breed'].value_counts()\n",
    "dog_breed_counts"
   ]
  },
  {
   "cell_type": "code",
   "execution_count": 56,
   "id": "eea1c687",
   "metadata": {},
   "outputs": [
    {
     "data": {
      "text/plain": [
       "Outcome Type\n",
       "Adoption                    16693\n",
       "Return to Owner/Guardian      208\n",
       "Name: count, dtype: int64"
      ]
     },
     "execution_count": 56,
     "metadata": {},
     "output_type": "execute_result"
    }
   ],
   "source": [
    "cat_outcome_counts = data_cats['Outcome Type'].value_counts()\n",
    "cat_outcome_counts"
   ]
  },
  {
   "cell_type": "code",
   "execution_count": 57,
   "id": "b03e9301",
   "metadata": {},
   "outputs": [
    {
     "data": {
      "text/plain": [
       "Outcome Type\n",
       "Adoption                    9533\n",
       "Return to Owner/Guardian    1193\n",
       "Name: count, dtype: int64"
      ]
     },
     "execution_count": 57,
     "metadata": {},
     "output_type": "execute_result"
    }
   ],
   "source": [
    "dog_outcome_counts = data_dogs['Outcome Type'].value_counts()\n",
    "dog_outcome_counts"
   ]
  },
  {
   "cell_type": "code",
   "execution_count": 58,
   "id": "d4a083ba",
   "metadata": {},
   "outputs": [
    {
     "data": {
      "text/plain": [
       "Intake Type\n",
       "Stray                       11852\n",
       "Owner/Guardian Surrender     3017\n",
       "Transfer In                  1316\n",
       "Return                        681\n",
       "Service In                     23\n",
       "Born In Care                   11\n",
       "Wildlife In                     1\n",
       "Name: count, dtype: int64"
      ]
     },
     "execution_count": 58,
     "metadata": {},
     "output_type": "execute_result"
    }
   ],
   "source": [
    "cat_intake_counts = data_cats['Intake Type'].value_counts()\n",
    "cat_intake_counts"
   ]
  },
  {
   "cell_type": "code",
   "execution_count": 59,
   "id": "f6e2a9fe",
   "metadata": {},
   "outputs": [
    {
     "data": {
      "text/plain": [
       "Intake Type\n",
       "Stray                       6008\n",
       "Owner/Guardian Surrender    2671\n",
       "Return                      1219\n",
       "Transfer In                  725\n",
       "Service In                    97\n",
       "Born In Care                   6\n",
       "Name: count, dtype: int64"
      ]
     },
     "execution_count": 59,
     "metadata": {},
     "output_type": "execute_result"
    }
   ],
   "source": [
    "dog_intake_counts = data_dogs['Intake Type'].value_counts()\n",
    "dog_intake_counts"
   ]
  },
  {
   "cell_type": "code",
   "execution_count": 60,
   "id": "cb414ac7",
   "metadata": {},
   "outputs": [
    {
     "name": "stdout",
     "output_type": "stream",
     "text": [
      "Overall Sex Distribution:\n",
      "Sex\n",
      "Male       14361\n",
      "Female     13265\n",
      "Unknown       10\n",
      "Name: count, dtype: int64\n",
      "\n",
      "Percentages:\n",
      "Sex\n",
      "Male       51.964828\n",
      "Female     47.998987\n",
      "Unknown     0.036185\n",
      "Name: count, dtype: float64\n"
     ]
    }
   ],
   "source": [
    "# Sex distribution analysis\n",
    "print(\"Overall Sex Distribution:\")\n",
    "overall_sex_counts = data['Sex'].value_counts()\n",
    "print(overall_sex_counts)\n",
    "print(f\"\\nPercentages:\")\n",
    "print(overall_sex_counts / len(data) * 100)"
   ]
  },
  {
   "cell_type": "code",
   "execution_count": 61,
   "id": "aaee25a7",
   "metadata": {},
   "outputs": [
    {
     "name": "stdout",
     "output_type": "stream",
     "text": [
      "Cat Sex Distribution:\n",
      "Sex\n",
      "Female     8506\n",
      "Male       8390\n",
      "Unknown       5\n",
      "Name: count, dtype: int64\n",
      "Percentages:\n",
      "Sex\n",
      "Female     50.328383\n",
      "Male       49.642033\n",
      "Unknown     0.029584\n",
      "Name: count, dtype: float64\n"
     ]
    }
   ],
   "source": [
    "print(\"Cat Sex Distribution:\")\n",
    "cat_sex_counts = data_cats['Sex'].value_counts()\n",
    "print(cat_sex_counts)\n",
    "print(f\"Percentages:\")\n",
    "print(cat_sex_counts / len(data_cats) * 100)"
   ]
  },
  {
   "cell_type": "code",
   "execution_count": 62,
   "id": "f028fb97",
   "metadata": {},
   "outputs": [
    {
     "name": "stdout",
     "output_type": "stream",
     "text": [
      "Dog Sex Distribution:\n",
      "Sex\n",
      "Male       5966\n",
      "Female     4755\n",
      "Unknown       5\n",
      "Name: count, dtype: int64\n",
      "Percentages:\n",
      "Sex\n",
      "Male       55.621853\n",
      "Female     44.331531\n",
      "Unknown     0.046616\n",
      "Name: count, dtype: float64\n"
     ]
    }
   ],
   "source": [
    "print(\"Dog Sex Distribution:\")\n",
    "dog_sex_counts = data_dogs['Sex'].value_counts()\n",
    "print(dog_sex_counts)\n",
    "print(f\"Percentages:\")\n",
    "print(dog_sex_counts / len(data_dogs) * 100)"
   ]
  },
  {
   "cell_type": "markdown",
   "id": "5228e90b",
   "metadata": {},
   "source": [
    "## Summary\n",
    "\n",
    "We're working with 27,632 animals from Jacksonville Humane Society between January 2021 and December 2023. Most are cats (16,903) with fewer dogs (10,729), which is pretty typical for shelter populations. The data includes everything we need: species, breeds, colors, ages, sex, how they came in, and what happened to them.\n",
    "\n",
    "Cleaning the data was straightforward. We dropped some unnecessary columns like secondary colors and patterns, removed 5 incomplete records, and standardized the color names since there were 42 different ways to describe essentially the same colors. For example, \"Brown,\" \"Chocolate,\" and \"Mahogany\" all got grouped together.\n",
    "\n",
    "The sex distribution is interesting. Overall there are slightly more males (52%) than females (48%), but this varies by species. Dogs skew heavily male (55.6% vs 44.3%), while cats are almost perfectly split. Only 10 animals had unknown sex recorded.\n",
    "\n",
    "The good news is this is high-quality data. Almost 95% of animals were adopted, there's virtually no missing information, and we have plenty of animals in each color category for meaningful statistical comparisons. The data has been split into separate cat and dog files for the statistical analysis."
   ]
  }
 ],
 "metadata": {
  "kernelspec": {
   "display_name": ".venv",
   "language": "python",
   "name": "python3"
  },
  "language_info": {
   "codemirror_mode": {
    "name": "ipython",
    "version": 3
   },
   "file_extension": ".py",
   "mimetype": "text/x-python",
   "name": "python",
   "nbconvert_exporter": "python",
   "pygments_lexer": "ipython3",
   "version": "3.13.7"
  }
 },
 "nbformat": 4,
 "nbformat_minor": 5
}
